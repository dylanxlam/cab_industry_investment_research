{
 "cells": [
  {
   "cell_type": "code",
   "execution_count": 31,
   "metadata": {},
   "outputs": [
    {
     "ename": "ImportError",
     "evalue": "cannot import name 'DataError' from 'pandas.core.base' (/Users/dylanlam/miniconda3/lib/python3.11/site-packages/pandas/core/base.py)",
     "output_type": "error",
     "traceback": [
      "\u001b[0;31m---------------------------------------------------------------------------\u001b[0m",
      "\u001b[0;31mImportError\u001b[0m                               Traceback (most recent call last)",
      "Cell \u001b[0;32mIn[31], line 4\u001b[0m\n\u001b[1;32m      2\u001b[0m \u001b[39mimport\u001b[39;00m \u001b[39mmatplotlib\u001b[39;00m\u001b[39m.\u001b[39;00m\u001b[39mpyplot\u001b[39;00m \u001b[39mas\u001b[39;00m \u001b[39mplt\u001b[39;00m\n\u001b[1;32m      3\u001b[0m \u001b[39mimport\u001b[39;00m \u001b[39mseaborn\u001b[39;00m \u001b[39mas\u001b[39;00m \u001b[39msns\u001b[39;00m\n\u001b[0;32m----> 4\u001b[0m \u001b[39mimport\u001b[39;00m \u001b[39mpandas_profiling\u001b[39;00m \n",
      "File \u001b[0;32m~/miniconda3/lib/python3.11/site-packages/pandas_profiling/__init__.py:7\u001b[0m\n\u001b[1;32m      1\u001b[0m \u001b[39m\"\"\"Main module of pandas-profiling.\u001b[39;00m\n\u001b[1;32m      2\u001b[0m \n\u001b[1;32m      3\u001b[0m \u001b[39m.. include:: ../../README.md\u001b[39;00m\n\u001b[1;32m      4\u001b[0m \u001b[39m\"\"\"\u001b[39;00m\n\u001b[1;32m      6\u001b[0m \u001b[39mfrom\u001b[39;00m \u001b[39mpandas_profiling\u001b[39;00m\u001b[39m.\u001b[39;00m\u001b[39mconfig\u001b[39;00m \u001b[39mimport\u001b[39;00m Config, config\n\u001b[0;32m----> 7\u001b[0m \u001b[39mfrom\u001b[39;00m \u001b[39mpandas_profiling\u001b[39;00m\u001b[39m.\u001b[39;00m\u001b[39mcontroller\u001b[39;00m \u001b[39mimport\u001b[39;00m pandas_decorator\n\u001b[1;32m      8\u001b[0m \u001b[39mfrom\u001b[39;00m \u001b[39mpandas_profiling\u001b[39;00m\u001b[39m.\u001b[39;00m\u001b[39mprofile_report\u001b[39;00m \u001b[39mimport\u001b[39;00m ProfileReport\n\u001b[1;32m      9\u001b[0m \u001b[39mfrom\u001b[39;00m \u001b[39mpandas_profiling\u001b[39;00m\u001b[39m.\u001b[39;00m\u001b[39mversion\u001b[39;00m \u001b[39mimport\u001b[39;00m __version__\n",
      "File \u001b[0;32m~/miniconda3/lib/python3.11/site-packages/pandas_profiling/controller/pandas_decorator.py:4\u001b[0m\n\u001b[1;32m      1\u001b[0m \u001b[39m\"\"\"This file add the decorator on the DataFrame object.\"\"\"\u001b[39;00m\n\u001b[1;32m      2\u001b[0m \u001b[39mfrom\u001b[39;00m \u001b[39mpandas\u001b[39;00m \u001b[39mimport\u001b[39;00m DataFrame\n\u001b[0;32m----> 4\u001b[0m \u001b[39mfrom\u001b[39;00m \u001b[39mpandas_profiling\u001b[39;00m\u001b[39m.\u001b[39;00m\u001b[39m__init__\u001b[39;00m \u001b[39mimport\u001b[39;00m ProfileReport\n\u001b[1;32m      7\u001b[0m \u001b[39mdef\u001b[39;00m \u001b[39mprofile_report\u001b[39m(df, \u001b[39m*\u001b[39m\u001b[39m*\u001b[39mkwargs) \u001b[39m-\u001b[39m\u001b[39m>\u001b[39m ProfileReport:\n\u001b[1;32m      8\u001b[0m \u001b[39m    \u001b[39m\u001b[39m\"\"\"Profile a DataFrame.\u001b[39;00m\n\u001b[1;32m      9\u001b[0m \n\u001b[1;32m     10\u001b[0m \u001b[39m    Args:\u001b[39;00m\n\u001b[0;32m   (...)\u001b[0m\n\u001b[1;32m     15\u001b[0m \u001b[39m        A ProfileReport of the DataFrame.\u001b[39;00m\n\u001b[1;32m     16\u001b[0m \u001b[39m    \"\"\"\u001b[39;00m\n",
      "File \u001b[0;32m~/miniconda3/lib/python3.11/site-packages/pandas_profiling/__init__.py:8\u001b[0m\n\u001b[1;32m      6\u001b[0m \u001b[39mfrom\u001b[39;00m \u001b[39mpandas_profiling\u001b[39;00m\u001b[39m.\u001b[39;00m\u001b[39mconfig\u001b[39;00m \u001b[39mimport\u001b[39;00m Config, config\n\u001b[1;32m      7\u001b[0m \u001b[39mfrom\u001b[39;00m \u001b[39mpandas_profiling\u001b[39;00m\u001b[39m.\u001b[39;00m\u001b[39mcontroller\u001b[39;00m \u001b[39mimport\u001b[39;00m pandas_decorator\n\u001b[0;32m----> 8\u001b[0m \u001b[39mfrom\u001b[39;00m \u001b[39mpandas_profiling\u001b[39;00m\u001b[39m.\u001b[39;00m\u001b[39mprofile_report\u001b[39;00m \u001b[39mimport\u001b[39;00m ProfileReport\n\u001b[1;32m      9\u001b[0m \u001b[39mfrom\u001b[39;00m \u001b[39mpandas_profiling\u001b[39;00m\u001b[39m.\u001b[39;00m\u001b[39mversion\u001b[39;00m \u001b[39mimport\u001b[39;00m __version__\n\u001b[1;32m     11\u001b[0m clear_config \u001b[39m=\u001b[39m ProfileReport\u001b[39m.\u001b[39mclear_config\n",
      "File \u001b[0;32m~/miniconda3/lib/python3.11/site-packages/pandas_profiling/profile_report.py:11\u001b[0m\n\u001b[1;32m      8\u001b[0m \u001b[39mfrom\u001b[39;00m \u001b[39mtqdm\u001b[39;00m\u001b[39m.\u001b[39;00m\u001b[39mauto\u001b[39;00m \u001b[39mimport\u001b[39;00m tqdm\n\u001b[1;32m     10\u001b[0m \u001b[39mfrom\u001b[39;00m \u001b[39mpandas_profiling\u001b[39;00m\u001b[39m.\u001b[39;00m\u001b[39mconfig\u001b[39;00m \u001b[39mimport\u001b[39;00m config\n\u001b[0;32m---> 11\u001b[0m \u001b[39mfrom\u001b[39;00m \u001b[39mpandas_profiling\u001b[39;00m\u001b[39m.\u001b[39;00m\u001b[39mmodel\u001b[39;00m\u001b[39m.\u001b[39;00m\u001b[39mdescribe\u001b[39;00m \u001b[39mimport\u001b[39;00m describe \u001b[39mas\u001b[39;00m describe_df\n\u001b[1;32m     12\u001b[0m \u001b[39mfrom\u001b[39;00m \u001b[39mpandas_profiling\u001b[39;00m\u001b[39m.\u001b[39;00m\u001b[39mmodel\u001b[39;00m\u001b[39m.\u001b[39;00m\u001b[39mmessages\u001b[39;00m \u001b[39mimport\u001b[39;00m MessageType\n\u001b[1;32m     13\u001b[0m \u001b[39mfrom\u001b[39;00m \u001b[39mpandas_profiling\u001b[39;00m\u001b[39m.\u001b[39;00m\u001b[39mreport\u001b[39;00m \u001b[39mimport\u001b[39;00m get_report_structure\n",
      "File \u001b[0;32m~/miniconda3/lib/python3.11/site-packages/pandas_profiling/model/describe.py:11\u001b[0m\n\u001b[1;32m      9\u001b[0m \u001b[39mfrom\u001b[39;00m \u001b[39mpandas_profiling\u001b[39;00m\u001b[39m.\u001b[39;00m\u001b[39mconfig\u001b[39;00m \u001b[39mimport\u001b[39;00m config \u001b[39mas\u001b[39;00m config\n\u001b[1;32m     10\u001b[0m \u001b[39mfrom\u001b[39;00m \u001b[39mpandas_profiling\u001b[39;00m\u001b[39m.\u001b[39;00m\u001b[39mmodel\u001b[39;00m\u001b[39m.\u001b[39;00m\u001b[39mbase\u001b[39;00m \u001b[39mimport\u001b[39;00m Variable\n\u001b[0;32m---> 11\u001b[0m \u001b[39mfrom\u001b[39;00m \u001b[39mpandas_profiling\u001b[39;00m\u001b[39m.\u001b[39;00m\u001b[39mmodel\u001b[39;00m\u001b[39m.\u001b[39;00m\u001b[39mcorrelations\u001b[39;00m \u001b[39mimport\u001b[39;00m calculate_correlation\n\u001b[1;32m     12\u001b[0m \u001b[39mfrom\u001b[39;00m \u001b[39mpandas_profiling\u001b[39;00m\u001b[39m.\u001b[39;00m\u001b[39mmodel\u001b[39;00m\u001b[39m.\u001b[39;00m\u001b[39msample\u001b[39;00m \u001b[39mimport\u001b[39;00m Sample, get_sample\n\u001b[1;32m     13\u001b[0m \u001b[39mfrom\u001b[39;00m \u001b[39mpandas_profiling\u001b[39;00m\u001b[39m.\u001b[39;00m\u001b[39mmodel\u001b[39;00m\u001b[39m.\u001b[39;00m\u001b[39msummary\u001b[39;00m \u001b[39mimport\u001b[39;00m (\n\u001b[1;32m     14\u001b[0m     get_duplicates,\n\u001b[1;32m     15\u001b[0m     get_messages,\n\u001b[0;32m   (...)\u001b[0m\n\u001b[1;32m     19\u001b[0m     get_table_stats,\n\u001b[1;32m     20\u001b[0m )\n",
      "File \u001b[0;32m~/miniconda3/lib/python3.11/site-packages/pandas_profiling/model/correlations.py:11\u001b[0m\n\u001b[1;32m      9\u001b[0m \u001b[39mimport\u001b[39;00m \u001b[39mpandas\u001b[39;00m \u001b[39mas\u001b[39;00m \u001b[39mpd\u001b[39;00m\n\u001b[1;32m     10\u001b[0m \u001b[39mfrom\u001b[39;00m \u001b[39mconfuse\u001b[39;00m \u001b[39mimport\u001b[39;00m NotFoundError\n\u001b[0;32m---> 11\u001b[0m \u001b[39mfrom\u001b[39;00m \u001b[39mpandas\u001b[39;00m\u001b[39m.\u001b[39;00m\u001b[39mcore\u001b[39;00m\u001b[39m.\u001b[39;00m\u001b[39mbase\u001b[39;00m \u001b[39mimport\u001b[39;00m DataError\n\u001b[1;32m     12\u001b[0m \u001b[39mfrom\u001b[39;00m \u001b[39mscipy\u001b[39;00m \u001b[39mimport\u001b[39;00m stats\n\u001b[1;32m     14\u001b[0m \u001b[39mfrom\u001b[39;00m \u001b[39mpandas_profiling\u001b[39;00m\u001b[39m.\u001b[39;00m\u001b[39mconfig\u001b[39;00m \u001b[39mimport\u001b[39;00m config\n",
      "\u001b[0;31mImportError\u001b[0m: cannot import name 'DataError' from 'pandas.core.base' (/Users/dylanlam/miniconda3/lib/python3.11/site-packages/pandas/core/base.py)"
     ]
    }
   ],
   "source": [
    "import pandas as pd\n",
    "import matplotlib.pyplot as plt\n",
    "import seaborn as sns\n",
    "import pandas_profiling "
   ]
  },
  {
   "cell_type": "code",
   "execution_count": 3,
   "metadata": {},
   "outputs": [],
   "source": [
    "# Load the Datasets\n",
    "\n",
    "cab_data = pd.read_csv(\"Cab_Data.csv\")\n",
    "customer_data = pd.read_csv(\"Customer_ID.csv\")\n",
    "transaction_data = pd.read_csv(\"Transaction_ID.csv\")\n",
    "city_data = pd.read_csv(\"City.csv\")"
   ]
  },
  {
   "cell_type": "code",
   "execution_count": 9,
   "metadata": {},
   "outputs": [
    {
     "name": "stdout",
     "output_type": "stream",
     "text": [
      "Cab Data Sample:\n",
      "   Transaction ID  Date of Travel   Company        City  KM Travelled  \\\n",
      "0        10000011           42377  Pink Cab  ATLANTA GA         30.45   \n",
      "1        10000012           42375  Pink Cab  ATLANTA GA         28.62   \n",
      "2        10000013           42371  Pink Cab  ATLANTA GA          9.04   \n",
      "3        10000014           42376  Pink Cab  ATLANTA GA         33.17   \n",
      "4        10000015           42372  Pink Cab  ATLANTA GA          8.73   \n",
      "\n",
      "   Price Charged  Cost of Trip  \n",
      "0         370.95       313.635  \n",
      "1         358.52       334.854  \n",
      "2         125.20        97.632  \n",
      "3         377.40       351.602  \n",
      "4         114.62        97.776  \n",
      "\n",
      "Customer Data Sample:\n",
      "   Customer ID Gender  Age  Income (USD/Month)\n",
      "0        29290   Male   28               10813\n",
      "1        27703   Male   27                9237\n",
      "2        28712   Male   53               11242\n",
      "3        28020   Male   23               23327\n",
      "4        27182   Male   33                8536\n",
      "\n",
      "Transaction Data Sample:\n",
      "   Transaction ID  Customer ID Payment_Mode\n",
      "0        10000011        29290         Card\n",
      "1        10000012        27703         Card\n",
      "2        10000013        28712         Cash\n",
      "3        10000014        28020         Cash\n",
      "4        10000015        27182         Card\n",
      "\n",
      "City Data Sample:\n",
      "             City   Population      Users\n",
      "0     NEW YORK NY   8,405,837    302,149 \n",
      "1      CHICAGO IL   1,955,130    164,468 \n",
      "2  LOS ANGELES CA   1,595,037    144,132 \n",
      "3        MIAMI FL   1,339,155     17,675 \n",
      "4  SILICON VALLEY   1,177,609     27,247 \n"
     ]
    }
   ],
   "source": [
    "# Display the first few rows of each dataset to get an initial sense of the data\n",
    "print(\"Cab Data Sample:\")\n",
    "print(cab_data.head())\n",
    "\n",
    "print(\"\\nCustomer Data Sample:\")\n",
    "print(customer_data.head())\n",
    "\n",
    "print(\"\\nTransaction Data Sample:\")\n",
    "print(transaction_data.head())\n",
    "\n",
    "print(\"\\nCity Data Sample:\")\n",
    "print(city_data.head())"
   ]
  },
  {
   "cell_type": "code",
   "execution_count": 12,
   "metadata": {},
   "outputs": [
    {
     "name": "stdout",
     "output_type": "stream",
     "text": [
      "\n",
      "Cab Data:\n",
      "\n",
      "Field Names and Data Types:\n",
      "Transaction ID: int64\n",
      "Date of Travel: int64\n",
      "Company: object\n",
      "City: object\n",
      "KM Travelled: float64\n",
      "Price Charged: float64\n",
      "Cost of Trip: float64\n",
      "\n",
      "Customer Data:\n",
      "\n",
      "Field Names and Data Types:\n",
      "Customer ID: int64\n",
      "Gender: object\n",
      "Age: int64\n",
      "Income (USD/Month): int64\n",
      "\n",
      "Transaction Data:\n",
      "\n",
      "Field Names and Data Types:\n",
      "Transaction ID: int64\n",
      "Customer ID: int64\n",
      "Payment_Mode: object\n",
      "\n",
      "City Data:\n",
      "\n",
      "Field Names and Data Types:\n",
      "City: object\n",
      "Population: object\n",
      "Users: object\n"
     ]
    }
   ],
   "source": [
    "# List field names and data types for each dataset\n",
    "def list_fields_and_data_types(df):\n",
    "    print(\"\\nField Names and Data Types:\")\n",
    "    for column, dtype in zip(df.columns, df.dtypes):\n",
    "        print(f\"{column}: {dtype}\")\n",
    "\n",
    "print(\"\\nCab Data:\")\n",
    "list_fields_and_data_types(cab_data)\n",
    "\n",
    "print(\"\\nCustomer Data:\")\n",
    "list_fields_and_data_types(customer_data)\n",
    "\n",
    "print(\"\\nTransaction Data:\")\n",
    "list_fields_and_data_types(transaction_data)\n",
    "\n",
    "print(\"\\nCity Data:\")\n",
    "list_fields_and_data_types(city_data)"
   ]
  },
  {
   "cell_type": "code",
   "execution_count": 13,
   "metadata": {},
   "outputs": [
    {
     "name": "stdout",
     "output_type": "stream",
     "text": [
      "Merged Cab and Transaction Data:\n",
      "   Transaction ID  Date of Travel   Company        City  KM Travelled  \\\n",
      "0        10000011           42377  Pink Cab  ATLANTA GA         30.45   \n",
      "1        10000012           42375  Pink Cab  ATLANTA GA         28.62   \n",
      "2        10000013           42371  Pink Cab  ATLANTA GA          9.04   \n",
      "3        10000014           42376  Pink Cab  ATLANTA GA         33.17   \n",
      "4        10000015           42372  Pink Cab  ATLANTA GA          8.73   \n",
      "\n",
      "   Price Charged  Cost of Trip  Customer ID Payment_Mode  \n",
      "0         370.95       313.635        29290         Card  \n",
      "1         358.52       334.854        27703         Card  \n",
      "2         125.20        97.632        28712         Cash  \n",
      "3         377.40       351.602        28020         Cash  \n",
      "4         114.62        97.776        27182         Card  \n",
      "\n",
      "Merged Customer and Transaction Data:\n",
      "   Customer ID Gender  Age  Income (USD/Month)  Transaction ID Payment_Mode\n",
      "0        29290   Male   28               10813        10000011         Card\n",
      "1        29290   Male   28               10813        10351127         Cash\n",
      "2        29290   Male   28               10813        10412921         Card\n",
      "3        27703   Male   27                9237        10000012         Card\n",
      "4        27703   Male   27                9237        10320494         Card\n"
     ]
    }
   ],
   "source": [
    "# Step 3: Identify Relationships Across Files\n",
    "# Continue to examine the data to determine relationships and common fields for joining.\n",
    "\n",
    "# Identify relationships across files\n",
    "# 1. Link Cab_Data.csv and Transaction_ID.csv using \"Transaction ID\"\n",
    "merged_cab_transaction = pd.merge(cab_data, transaction_data, on='Transaction ID')\n",
    "\n",
    "# 2. Link Customer_ID.csv and Transaction_ID.csv using \"Customer ID\"\n",
    "merged_customer_transaction = pd.merge(customer_data, transaction_data, on='Customer ID')\n",
    "\n",
    "# Display the first few rows of the merged dataframes to verify the results\n",
    "print(\"Merged Cab and Transaction Data:\")\n",
    "print(merged_cab_transaction.head())\n",
    "\n",
    "print(\"\\nMerged Customer and Transaction Data:\")\n",
    "print(merged_customer_transaction.head())"
   ]
  },
  {
   "cell_type": "code",
   "execution_count": null,
   "metadata": {},
   "outputs": [],
   "source": [
    "# Task 1: Load and Perform Initial EDA\n",
    "\n",
    "# Load Cab Data\n",
    "cab_data = pd.read_csv(\"Cab_Data.csv\")\n",
    "\n",
    "# Display basic statistics\n",
    "print(\"Basic Statistics of Cab Data:\")\n",
    "print(cab_data.describe())\n",
    "\n",
    "# Check for missing values\n",
    "print(\"\\nMissing Values in Cab Data:\")\n",
    "print(cab_data.isnull().sum())\n",
    "\n",
    "# Visualize data - Histogram of KM Travelled\n",
    "plt.figure(figsize=(8, 6))\n",
    "sns.histplot(cab_data['KM Travelled'], bins=30, kde=True)\n",
    "plt.xlabel('KM Travelled')\n",
    "plt.ylabel('Frequency')\n",
    "plt.title('Distribution of KM Travelled')\n",
    "plt.show()\n",
    "\n",
    "# Load City Data\n",
    "city_data = pd.read_csv(\"City.csv\")\n",
    "\n",
    "# Display basic statistics\n",
    "print(\"\\nBasic Statistics of City Data:\")\n",
    "print(city_data.describe())\n",
    "\n",
    "# Check for missing values\n",
    "print(\"\\nMissing Values in City Data:\")\n",
    "print(city_data.isnull().sum())\n",
    "\n",
    "# Task 2: Descriptive Statistics\n",
    "\n",
    "# Calculate mean and median of 'Price Charged' in Cab Data\n",
    "mean_price = cab_data['Price Charged'].mean()\n",
    "median_price = cab_data['Price Charged'].median()\n",
    "\n",
    "print(f\"\\nMean Price Charged in Cab Data: {mean_price}\")\n",
    "print(f\"Median Price Charged in Cab Data: {median_price}\")\n",
    "\n",
    "# Calculate mean and median of 'Income (USD/Month)' in Customer Data\n",
    "customer_data = pd.read_csv(\"Customer_ID.csv\")\n",
    "mean_income = customer_data['Income (USD/Month)'].mean()\n",
    "median_income = customer_data['Income (USD/Month)'].median()\n",
    "\n",
    "print(f\"\\nMean Income (USD/Month) in Customer Data: {mean_income}\")\n",
    "print(f\"Median Income (USD/Month) in Customer Data: {median_income}\")\n",
    "\n",
    "# Task 3: Data Profiling\n",
    "\n",
    "# Create a profile report for Cab Data\n",
    "cab_profile = ProfileReport(cab_data)\n",
    "cab_profile.to_file(\"Cab_Data_Profile_Report.html\")\n",
    "\n",
    "# Create a profile report for City Data\n",
    "city_profile = ProfileReport(city_data)\n",
    "city_profile.to_file(\"City_Data_Profile_Report.html\")\n",
    "\n",
    "# Create a profile report for Customer Data\n",
    "customer_profile = ProfileReport(customer_data)\n",
    "customer_profile.to_file(\"Customer_Data_Profile_Report.html\")\n",
    "\n",
    "# Task 4: Cross-tabulation\n",
    "\n",
    "# Load Transaction Data\n",
    "transaction_data = pd.read_csv(\"Transaction_ID.csv\")\n",
    "\n",
    "# Create a cross-tabulation between 'Company' and 'City' in Cab Data\n",
    "cross_tab_cab = pd.crosstab(cab_data['Company'], cab_data['City'])\n",
    "\n",
    "# Create a cross-tabulation between 'Gender' and 'Age' in Customer Data\n",
    "cross_tab_customer = pd.crosstab(customer_data['Gender'], customer_data['Age'])\n",
    "\n",
    "# Display the cross-tabulation for Cab Data\n",
    "print(\"\\nCross-Tabulation between 'Company' and 'City' in Cab Data:\")\n",
    "print(cross_tab_cab)\n",
    "\n",
    "# Display the cross-tabulation for Customer Data\n",
    "print(\"\\nCross-Tabulation between 'Gender' and 'Age' in Customer Data:\")\n",
    "print(cross_tab_customer)\n"
   ]
  },
  {
   "cell_type": "code",
   "execution_count": null,
   "metadata": {},
   "outputs": [],
   "source": [
    "# Step 4: Field/Feature Transformations\n",
    "# This step may involve creating new features, aggregations, etc., as needed for analysis."
   ]
  },
  {
   "cell_type": "code",
   "execution_count": null,
   "metadata": {},
   "outputs": [],
   "source": [
    "# Step 5: Determine Join vs. Append\n",
    "# Decide how datasets should be combined, if necessary."
   ]
  },
  {
   "cell_type": "code",
   "execution_count": null,
   "metadata": {},
   "outputs": [],
   "source": [
    "# Step 6: Create Master Data and Explain the Relationship\n",
    "# If joining datasets, perform the join operation and explain relationships."
   ]
  },
  {
   "cell_type": "code",
   "execution_count": null,
   "metadata": {},
   "outputs": [],
   "source": [
    "# Step 7: Identify and Remove Duplicates\n",
    "# Check for and handle duplicate records, ensuring clean and unique data."
   ]
  },
  {
   "cell_type": "code",
   "execution_count": null,
   "metadata": {},
   "outputs": [],
   "source": [
    "# Step 8: Perform Other Analysis\n",
    "# Handle missing values, outliers, and other data cleaning tasks as needed."
   ]
  }
 ],
 "metadata": {
  "kernelspec": {
   "display_name": "Python 3",
   "language": "python",
   "name": "python3"
  },
  "language_info": {
   "codemirror_mode": {
    "name": "ipython",
    "version": 3
   },
   "file_extension": ".py",
   "mimetype": "text/x-python",
   "name": "python",
   "nbconvert_exporter": "python",
   "pygments_lexer": "ipython3",
   "version": "3.11.4"
  },
  "orig_nbformat": 4
 },
 "nbformat": 4,
 "nbformat_minor": 2
}
