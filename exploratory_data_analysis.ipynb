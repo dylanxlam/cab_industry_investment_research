{
 "cells": [
  {
   "cell_type": "code",
   "execution_count": 2,
   "metadata": {},
   "outputs": [],
   "source": [
    "import pandas as pd"
   ]
  },
  {
   "cell_type": "code",
   "execution_count": 3,
   "metadata": {},
   "outputs": [],
   "source": [
    "# Load the Datasets\n",
    "\n",
    "cab_data = pd.read_csv(\"Cab_Data.csv\")\n",
    "customer_data = pd.read_csv(\"Customer_ID.csv\")\n",
    "transaction_data = pd.read_csv(\"Transaction_ID.csv\")\n",
    "city_data = pd.read_csv(\"City.csv\")"
   ]
  },
  {
   "cell_type": "code",
   "execution_count": 9,
   "metadata": {},
   "outputs": [
    {
     "name": "stdout",
     "output_type": "stream",
     "text": [
      "Cab Data Sample:\n",
      "   Transaction ID  Date of Travel   Company        City  KM Travelled  \\\n",
      "0        10000011           42377  Pink Cab  ATLANTA GA         30.45   \n",
      "1        10000012           42375  Pink Cab  ATLANTA GA         28.62   \n",
      "2        10000013           42371  Pink Cab  ATLANTA GA          9.04   \n",
      "3        10000014           42376  Pink Cab  ATLANTA GA         33.17   \n",
      "4        10000015           42372  Pink Cab  ATLANTA GA          8.73   \n",
      "\n",
      "   Price Charged  Cost of Trip  \n",
      "0         370.95       313.635  \n",
      "1         358.52       334.854  \n",
      "2         125.20        97.632  \n",
      "3         377.40       351.602  \n",
      "4         114.62        97.776  \n",
      "\n",
      "Customer Data Sample:\n",
      "   Customer ID Gender  Age  Income (USD/Month)\n",
      "0        29290   Male   28               10813\n",
      "1        27703   Male   27                9237\n",
      "2        28712   Male   53               11242\n",
      "3        28020   Male   23               23327\n",
      "4        27182   Male   33                8536\n",
      "\n",
      "Transaction Data Sample:\n",
      "   Transaction ID  Customer ID Payment_Mode\n",
      "0        10000011        29290         Card\n",
      "1        10000012        27703         Card\n",
      "2        10000013        28712         Cash\n",
      "3        10000014        28020         Cash\n",
      "4        10000015        27182         Card\n",
      "\n",
      "City Data Sample:\n",
      "             City   Population      Users\n",
      "0     NEW YORK NY   8,405,837    302,149 \n",
      "1      CHICAGO IL   1,955,130    164,468 \n",
      "2  LOS ANGELES CA   1,595,037    144,132 \n",
      "3        MIAMI FL   1,339,155     17,675 \n",
      "4  SILICON VALLEY   1,177,609     27,247 \n"
     ]
    }
   ],
   "source": [
    "# Display the first few rows of each dataset to get an initial sense of the data\n",
    "print(\"Cab Data Sample:\")\n",
    "print(cab_data.head())\n",
    "\n",
    "print(\"\\nCustomer Data Sample:\")\n",
    "print(customer_data.head())\n",
    "\n",
    "print(\"\\nTransaction Data Sample:\")\n",
    "print(transaction_data.head())\n",
    "\n",
    "print(\"\\nCity Data Sample:\")\n",
    "print(city_data.head())"
   ]
  },
  {
   "cell_type": "code",
   "execution_count": 11,
   "metadata": {},
   "outputs": [
    {
     "name": "stdout",
     "output_type": "stream",
     "text": [
      "\n",
      "**Cab Data:**\n",
      "\n",
      "Field Names and Data Types:\n",
      "Transaction ID: int64\n",
      "Date of Travel: int64\n",
      "Company: object\n",
      "City: object\n",
      "KM Travelled: float64\n",
      "Price Charged: float64\n",
      "Cost of Trip: float64\n",
      "\n",
      "Customer Data:\n",
      "\n",
      "Field Names and Data Types:\n",
      "Customer ID: int64\n",
      "Gender: object\n",
      "Age: int64\n",
      "Income (USD/Month): int64\n",
      "\n",
      "Transaction Data:\n",
      "\n",
      "Field Names and Data Types:\n",
      "Transaction ID: int64\n",
      "Customer ID: int64\n",
      "Payment_Mode: object\n",
      "\n",
      "City Data:\n",
      "\n",
      "Field Names and Data Types:\n",
      "City: object\n",
      "Population: object\n",
      "Users: object\n"
     ]
    }
   ],
   "source": [
    "# List field names and data types for each dataset\n",
    "def list_fields_and_data_types(df):\n",
    "    print(\"\\nField Names and Data Types:\")\n",
    "    for column, dtype in zip(df.columns, df.dtypes):\n",
    "        print(f\"{column}: {dtype}\")\n",
    "\n",
    "print(\"\\nCab Data:\")\n",
    "list_fields_and_data_types(cab_data)\n",
    "\n",
    "print(\"\\nCustomer Data:\")\n",
    "list_fields_and_data_types(customer_data)\n",
    "\n",
    "print(\"\\nTransaction Data:\")\n",
    "list_fields_and_data_types(transaction_data)\n",
    "\n",
    "print(\"\\nCity Data:\")\n",
    "list_fields_and_data_types(city_data)"
   ]
  },
  {
   "cell_type": "code",
   "execution_count": null,
   "metadata": {},
   "outputs": [],
   "source": [
    "# Step 3: Identify Relationships Across Files\n",
    "# Continue to examine the data to determine relationships and common fields for joining.\n",
    "\n",
    "# Step 4: Field/Feature Transformations\n",
    "# This step may involve creating new features, aggregations, etc., as needed for analysis.\n",
    "\n",
    "# Step 5: Determine Join vs. Append\n",
    "# Decide how datasets should be combined, if necessary.\n",
    "\n",
    "# Step 6: Create Master Data and Explain the Relationship\n",
    "# If joining datasets, perform the join operation and explain relationships.\n",
    "\n",
    "# Step 7: Identify and Remove Duplicates\n",
    "# Check for and handle duplicate records, ensuring clean and unique data.\n",
    "\n",
    "# Step 8: Perform Other Analysis\n",
    "# Handle missing values, outliers, and other data cleaning tasks as needed."
   ]
  }
 ],
 "metadata": {
  "kernelspec": {
   "display_name": "Python 3",
   "language": "python",
   "name": "python3"
  },
  "language_info": {
   "codemirror_mode": {
    "name": "ipython",
    "version": 3
   },
   "file_extension": ".py",
   "mimetype": "text/x-python",
   "name": "python",
   "nbconvert_exporter": "python",
   "pygments_lexer": "ipython3",
   "version": "3.11.4"
  },
  "orig_nbformat": 4
 },
 "nbformat": 4,
 "nbformat_minor": 2
}
