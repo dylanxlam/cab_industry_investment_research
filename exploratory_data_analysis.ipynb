{
 "cells": [
  {
   "cell_type": "code",
   "execution_count": 8,
   "metadata": {},
   "outputs": [
    {
     "name": "stdout",
     "output_type": "stream",
     "text": [
      "2.1.1\n"
     ]
    },
    {
     "ename": "PydanticImportError",
     "evalue": "`BaseSettings` has been moved to the `pydantic-settings` package. See https://docs.pydantic.dev/2.4/migration/#basesettings-has-moved-to-pydantic-settings for more details.\n\nFor further information visit https://errors.pydantic.dev/2.4/u/import-error",
     "output_type": "error",
     "traceback": [
      "\u001b[0;31m---------------------------------------------------------------------------\u001b[0m",
      "\u001b[0;31mPydanticImportError\u001b[0m                       Traceback (most recent call last)",
      "Cell \u001b[0;32mIn[8], line 7\u001b[0m\n\u001b[1;32m      4\u001b[0m \u001b[39mimport\u001b[39;00m \u001b[39mseaborn\u001b[39;00m \u001b[39mas\u001b[39;00m \u001b[39msns\u001b[39;00m\n\u001b[1;32m      5\u001b[0m \u001b[39mfrom\u001b[39;00m \u001b[39mpydantic_settings\u001b[39;00m \u001b[39mimport\u001b[39;00m BaseSettings\n\u001b[0;32m----> 7\u001b[0m \u001b[39mfrom\u001b[39;00m \u001b[39mpandas_profiling\u001b[39;00m \u001b[39mimport\u001b[39;00m ProfileReport\n",
      "File \u001b[0;32m/opt/homebrew/lib/python3.11/site-packages/pandas_profiling/__init__.py:6\u001b[0m\n\u001b[1;32m      1\u001b[0m \u001b[39m\"\"\"Main module of pandas-profiling.\u001b[39;00m\n\u001b[1;32m      2\u001b[0m \n\u001b[1;32m      3\u001b[0m \u001b[39m.. include:: ../../README.md\u001b[39;00m\n\u001b[1;32m      4\u001b[0m \u001b[39m\"\"\"\u001b[39;00m\n\u001b[0;32m----> 6\u001b[0m \u001b[39mfrom\u001b[39;00m \u001b[39mpandas_profiling\u001b[39;00m\u001b[39m.\u001b[39;00m\u001b[39mcontroller\u001b[39;00m \u001b[39mimport\u001b[39;00m pandas_decorator\n\u001b[1;32m      7\u001b[0m \u001b[39mfrom\u001b[39;00m \u001b[39mpandas_profiling\u001b[39;00m\u001b[39m.\u001b[39;00m\u001b[39mprofile_report\u001b[39;00m \u001b[39mimport\u001b[39;00m ProfileReport\n\u001b[1;32m      8\u001b[0m \u001b[39mfrom\u001b[39;00m \u001b[39mpandas_profiling\u001b[39;00m\u001b[39m.\u001b[39;00m\u001b[39mversion\u001b[39;00m \u001b[39mimport\u001b[39;00m __version__\n",
      "File \u001b[0;32m/opt/homebrew/lib/python3.11/site-packages/pandas_profiling/controller/pandas_decorator.py:4\u001b[0m\n\u001b[1;32m      1\u001b[0m \u001b[39m\"\"\"This file add the decorator on the DataFrame object.\"\"\"\u001b[39;00m\n\u001b[1;32m      2\u001b[0m \u001b[39mfrom\u001b[39;00m \u001b[39mpandas\u001b[39;00m \u001b[39mimport\u001b[39;00m DataFrame\n\u001b[0;32m----> 4\u001b[0m \u001b[39mfrom\u001b[39;00m \u001b[39mpandas_profiling\u001b[39;00m\u001b[39m.\u001b[39;00m\u001b[39mprofile_report\u001b[39;00m \u001b[39mimport\u001b[39;00m ProfileReport\n\u001b[1;32m      7\u001b[0m \u001b[39mdef\u001b[39;00m \u001b[39mprofile_report\u001b[39m(df: DataFrame, \u001b[39m*\u001b[39m\u001b[39m*\u001b[39mkwargs) \u001b[39m-\u001b[39m\u001b[39m>\u001b[39m ProfileReport:\n\u001b[1;32m      8\u001b[0m \u001b[39m    \u001b[39m\u001b[39m\"\"\"Profile a DataFrame.\u001b[39;00m\n\u001b[1;32m      9\u001b[0m \n\u001b[1;32m     10\u001b[0m \u001b[39m    Args:\u001b[39;00m\n\u001b[0;32m   (...)\u001b[0m\n\u001b[1;32m     15\u001b[0m \u001b[39m        A ProfileReport of the DataFrame.\u001b[39;00m\n\u001b[1;32m     16\u001b[0m \u001b[39m    \"\"\"\u001b[39;00m\n",
      "File \u001b[0;32m/opt/homebrew/lib/python3.11/site-packages/pandas_profiling/profile_report.py:13\u001b[0m\n\u001b[1;32m     10\u001b[0m \u001b[39mfrom\u001b[39;00m \u001b[39mtqdm\u001b[39;00m\u001b[39m.\u001b[39;00m\u001b[39mauto\u001b[39;00m \u001b[39mimport\u001b[39;00m tqdm\n\u001b[1;32m     11\u001b[0m \u001b[39mfrom\u001b[39;00m \u001b[39mvisions\u001b[39;00m \u001b[39mimport\u001b[39;00m VisionsTypeset\n\u001b[0;32m---> 13\u001b[0m \u001b[39mfrom\u001b[39;00m \u001b[39mpandas_profiling\u001b[39;00m\u001b[39m.\u001b[39;00m\u001b[39mconfig\u001b[39;00m \u001b[39mimport\u001b[39;00m Config, Settings\n\u001b[1;32m     14\u001b[0m \u001b[39mfrom\u001b[39;00m \u001b[39mpandas_profiling\u001b[39;00m\u001b[39m.\u001b[39;00m\u001b[39mexpectations_report\u001b[39;00m \u001b[39mimport\u001b[39;00m ExpectationsReport\n\u001b[1;32m     15\u001b[0m \u001b[39mfrom\u001b[39;00m \u001b[39mpandas_profiling\u001b[39;00m\u001b[39m.\u001b[39;00m\u001b[39mmodel\u001b[39;00m\u001b[39m.\u001b[39;00m\u001b[39malerts\u001b[39;00m \u001b[39mimport\u001b[39;00m AlertType\n",
      "File \u001b[0;32m/opt/homebrew/lib/python3.11/site-packages/pandas_profiling/config.py:5\u001b[0m\n\u001b[1;32m      2\u001b[0m \u001b[39mfrom\u001b[39;00m \u001b[39menum\u001b[39;00m \u001b[39mimport\u001b[39;00m Enum\n\u001b[1;32m      3\u001b[0m \u001b[39mfrom\u001b[39;00m \u001b[39mtyping\u001b[39;00m \u001b[39mimport\u001b[39;00m Any, Dict, List, Optional\n\u001b[0;32m----> 5\u001b[0m \u001b[39mfrom\u001b[39;00m \u001b[39mpydantic\u001b[39;00m \u001b[39mimport\u001b[39;00m BaseModel, BaseSettings, Field\n\u001b[1;32m      8\u001b[0m \u001b[39mdef\u001b[39;00m \u001b[39m_merge_dictionaries\u001b[39m(dict1: \u001b[39mdict\u001b[39m, dict2: \u001b[39mdict\u001b[39m) \u001b[39m-\u001b[39m\u001b[39m>\u001b[39m \u001b[39mdict\u001b[39m:\n\u001b[1;32m      9\u001b[0m \u001b[39m    \u001b[39m\u001b[39m\"\"\"\u001b[39;00m\n\u001b[1;32m     10\u001b[0m \u001b[39m    Recursive merge dictionaries.\u001b[39;00m\n\u001b[1;32m     11\u001b[0m \n\u001b[0;32m   (...)\u001b[0m\n\u001b[1;32m     14\u001b[0m \u001b[39m    :return: Merged dictionary\u001b[39;00m\n\u001b[1;32m     15\u001b[0m \u001b[39m    \"\"\"\u001b[39;00m\n",
      "File \u001b[0;32m/opt/homebrew/lib/python3.11/site-packages/pydantic/__init__.py:218\u001b[0m, in \u001b[0;36m__getattr__\u001b[0;34m(attr_name)\u001b[0m\n\u001b[1;32m    216\u001b[0m dynamic_attr \u001b[39m=\u001b[39m _dynamic_imports\u001b[39m.\u001b[39mget(attr_name)\n\u001b[1;32m    217\u001b[0m \u001b[39mif\u001b[39;00m dynamic_attr \u001b[39mis\u001b[39;00m \u001b[39mNone\u001b[39;00m:\n\u001b[0;32m--> 218\u001b[0m     \u001b[39mreturn\u001b[39;00m _getattr_migration(attr_name)\n\u001b[1;32m    220\u001b[0m package, module_name \u001b[39m=\u001b[39m dynamic_attr\n\u001b[1;32m    222\u001b[0m \u001b[39mfrom\u001b[39;00m \u001b[39mimportlib\u001b[39;00m \u001b[39mimport\u001b[39;00m import_module\n",
      "File \u001b[0;32m/opt/homebrew/lib/python3.11/site-packages/pydantic/_migration.py:294\u001b[0m, in \u001b[0;36mgetattr_migration.<locals>.wrapper\u001b[0;34m(name)\u001b[0m\n\u001b[1;32m    292\u001b[0m     \u001b[39mreturn\u001b[39;00m import_string(REDIRECT_TO_V1[import_path])\n\u001b[1;32m    293\u001b[0m \u001b[39mif\u001b[39;00m import_path \u001b[39m==\u001b[39m \u001b[39m'\u001b[39m\u001b[39mpydantic:BaseSettings\u001b[39m\u001b[39m'\u001b[39m:\n\u001b[0;32m--> 294\u001b[0m     \u001b[39mraise\u001b[39;00m PydanticImportError(\n\u001b[1;32m    295\u001b[0m         \u001b[39m'\u001b[39m\u001b[39m`BaseSettings` has been moved to the `pydantic-settings` package. \u001b[39m\u001b[39m'\u001b[39m\n\u001b[1;32m    296\u001b[0m         \u001b[39mf\u001b[39m\u001b[39m'\u001b[39m\u001b[39mSee https://docs.pydantic.dev/\u001b[39m\u001b[39m{\u001b[39;00mversion_short()\u001b[39m}\u001b[39;00m\u001b[39m/migration/#basesettings-has-moved-to-pydantic-settings \u001b[39m\u001b[39m'\u001b[39m\n\u001b[1;32m    297\u001b[0m         \u001b[39m'\u001b[39m\u001b[39mfor more details.\u001b[39m\u001b[39m'\u001b[39m\n\u001b[1;32m    298\u001b[0m     )\n\u001b[1;32m    299\u001b[0m \u001b[39mif\u001b[39;00m import_path \u001b[39min\u001b[39;00m REMOVED_IN_V2:\n\u001b[1;32m    300\u001b[0m     \u001b[39mraise\u001b[39;00m PydanticImportError(\u001b[39mf\u001b[39m\u001b[39m'\u001b[39m\u001b[39m`\u001b[39m\u001b[39m{\u001b[39;00mimport_path\u001b[39m}\u001b[39;00m\u001b[39m` has been removed in V2.\u001b[39m\u001b[39m'\u001b[39m)\n",
      "\u001b[0;31mPydanticImportError\u001b[0m: `BaseSettings` has been moved to the `pydantic-settings` package. See https://docs.pydantic.dev/2.4/migration/#basesettings-has-moved-to-pydantic-settings for more details.\n\nFor further information visit https://errors.pydantic.dev/2.4/u/import-error"
     ]
    }
   ],
   "source": [
    "import pandas as pd\n",
    "print(pd.__version__)\n",
    "import matplotlib.pyplot as plt\n",
    "import seaborn as sns\n",
    "from pydantic_settings import BaseSettings\n",
    "\n",
    "from pandas_profiling import ProfileReport"
   ]
  },
  {
   "cell_type": "code",
   "execution_count": 3,
   "metadata": {},
   "outputs": [],
   "source": [
    "# Load the Datasets\n",
    "\n",
    "cab_data = pd.read_csv(\"Cab_Data.csv\")\n",
    "customer_data = pd.read_csv(\"Customer_ID.csv\")\n",
    "transaction_data = pd.read_csv(\"Transaction_ID.csv\")\n",
    "city_data = pd.read_csv(\"City.csv\")"
   ]
  },
  {
   "cell_type": "code",
   "execution_count": 9,
   "metadata": {},
   "outputs": [
    {
     "name": "stdout",
     "output_type": "stream",
     "text": [
      "Cab Data Sample:\n",
      "   Transaction ID  Date of Travel   Company        City  KM Travelled  \\\n",
      "0        10000011           42377  Pink Cab  ATLANTA GA         30.45   \n",
      "1        10000012           42375  Pink Cab  ATLANTA GA         28.62   \n",
      "2        10000013           42371  Pink Cab  ATLANTA GA          9.04   \n",
      "3        10000014           42376  Pink Cab  ATLANTA GA         33.17   \n",
      "4        10000015           42372  Pink Cab  ATLANTA GA          8.73   \n",
      "\n",
      "   Price Charged  Cost of Trip  \n",
      "0         370.95       313.635  \n",
      "1         358.52       334.854  \n",
      "2         125.20        97.632  \n",
      "3         377.40       351.602  \n",
      "4         114.62        97.776  \n",
      "\n",
      "Customer Data Sample:\n",
      "   Customer ID Gender  Age  Income (USD/Month)\n",
      "0        29290   Male   28               10813\n",
      "1        27703   Male   27                9237\n",
      "2        28712   Male   53               11242\n",
      "3        28020   Male   23               23327\n",
      "4        27182   Male   33                8536\n",
      "\n",
      "Transaction Data Sample:\n",
      "   Transaction ID  Customer ID Payment_Mode\n",
      "0        10000011        29290         Card\n",
      "1        10000012        27703         Card\n",
      "2        10000013        28712         Cash\n",
      "3        10000014        28020         Cash\n",
      "4        10000015        27182         Card\n",
      "\n",
      "City Data Sample:\n",
      "             City   Population      Users\n",
      "0     NEW YORK NY   8,405,837    302,149 \n",
      "1      CHICAGO IL   1,955,130    164,468 \n",
      "2  LOS ANGELES CA   1,595,037    144,132 \n",
      "3        MIAMI FL   1,339,155     17,675 \n",
      "4  SILICON VALLEY   1,177,609     27,247 \n"
     ]
    }
   ],
   "source": [
    "# Display the first few rows of each dataset to get an initial sense of the data\n",
    "print(\"Cab Data Sample:\")\n",
    "print(cab_data.head())\n",
    "\n",
    "print(\"\\nCustomer Data Sample:\")\n",
    "print(customer_data.head())\n",
    "\n",
    "print(\"\\nTransaction Data Sample:\")\n",
    "print(transaction_data.head())\n",
    "\n",
    "print(\"\\nCity Data Sample:\")\n",
    "print(city_data.head())"
   ]
  },
  {
   "cell_type": "code",
   "execution_count": 12,
   "metadata": {},
   "outputs": [
    {
     "name": "stdout",
     "output_type": "stream",
     "text": [
      "\n",
      "Cab Data:\n",
      "\n",
      "Field Names and Data Types:\n",
      "Transaction ID: int64\n",
      "Date of Travel: int64\n",
      "Company: object\n",
      "City: object\n",
      "KM Travelled: float64\n",
      "Price Charged: float64\n",
      "Cost of Trip: float64\n",
      "\n",
      "Customer Data:\n",
      "\n",
      "Field Names and Data Types:\n",
      "Customer ID: int64\n",
      "Gender: object\n",
      "Age: int64\n",
      "Income (USD/Month): int64\n",
      "\n",
      "Transaction Data:\n",
      "\n",
      "Field Names and Data Types:\n",
      "Transaction ID: int64\n",
      "Customer ID: int64\n",
      "Payment_Mode: object\n",
      "\n",
      "City Data:\n",
      "\n",
      "Field Names and Data Types:\n",
      "City: object\n",
      "Population: object\n",
      "Users: object\n"
     ]
    }
   ],
   "source": [
    "# List field names and data types for each dataset\n",
    "def list_fields_and_data_types(df):\n",
    "    print(\"\\nField Names and Data Types:\")\n",
    "    for column, dtype in zip(df.columns, df.dtypes):\n",
    "        print(f\"{column}: {dtype}\")\n",
    "\n",
    "print(\"\\nCab Data:\")\n",
    "list_fields_and_data_types(cab_data)\n",
    "\n",
    "print(\"\\nCustomer Data:\")\n",
    "list_fields_and_data_types(customer_data)\n",
    "\n",
    "print(\"\\nTransaction Data:\")\n",
    "list_fields_and_data_types(transaction_data)\n",
    "\n",
    "print(\"\\nCity Data:\")\n",
    "list_fields_and_data_types(city_data)"
   ]
  },
  {
   "cell_type": "code",
   "execution_count": 13,
   "metadata": {},
   "outputs": [
    {
     "name": "stdout",
     "output_type": "stream",
     "text": [
      "Merged Cab and Transaction Data:\n",
      "   Transaction ID  Date of Travel   Company        City  KM Travelled  \\\n",
      "0        10000011           42377  Pink Cab  ATLANTA GA         30.45   \n",
      "1        10000012           42375  Pink Cab  ATLANTA GA         28.62   \n",
      "2        10000013           42371  Pink Cab  ATLANTA GA          9.04   \n",
      "3        10000014           42376  Pink Cab  ATLANTA GA         33.17   \n",
      "4        10000015           42372  Pink Cab  ATLANTA GA          8.73   \n",
      "\n",
      "   Price Charged  Cost of Trip  Customer ID Payment_Mode  \n",
      "0         370.95       313.635        29290         Card  \n",
      "1         358.52       334.854        27703         Card  \n",
      "2         125.20        97.632        28712         Cash  \n",
      "3         377.40       351.602        28020         Cash  \n",
      "4         114.62        97.776        27182         Card  \n",
      "\n",
      "Merged Customer and Transaction Data:\n",
      "   Customer ID Gender  Age  Income (USD/Month)  Transaction ID Payment_Mode\n",
      "0        29290   Male   28               10813        10000011         Card\n",
      "1        29290   Male   28               10813        10351127         Cash\n",
      "2        29290   Male   28               10813        10412921         Card\n",
      "3        27703   Male   27                9237        10000012         Card\n",
      "4        27703   Male   27                9237        10320494         Card\n"
     ]
    }
   ],
   "source": [
    "# Step 3: Identify Relationships Across Files\n",
    "# Continue to examine the data to determine relationships and common fields for joining.\n",
    "\n",
    "# Identify relationships across files\n",
    "# 1. Link Cab_Data.csv and Transaction_ID.csv using \"Transaction ID\"\n",
    "merged_cab_transaction = pd.merge(cab_data, transaction_data, on='Transaction ID')\n",
    "\n",
    "# 2. Link Customer_ID.csv and Transaction_ID.csv using \"Customer ID\"\n",
    "merged_customer_transaction = pd.merge(customer_data, transaction_data, on='Customer ID')\n",
    "\n",
    "# Display the first few rows of the merged dataframes to verify the results\n",
    "print(\"Merged Cab and Transaction Data:\")\n",
    "print(merged_cab_transaction.head())\n",
    "\n",
    "print(\"\\nMerged Customer and Transaction Data:\")\n",
    "print(merged_customer_transaction.head())"
   ]
  },
  {
   "cell_type": "code",
   "execution_count": 1,
   "metadata": {},
   "outputs": [
    {
     "ename": "NameError",
     "evalue": "name 'pd' is not defined",
     "output_type": "error",
     "traceback": [
      "\u001b[0;31m---------------------------------------------------------------------------\u001b[0m",
      "\u001b[0;31mNameError\u001b[0m                                 Traceback (most recent call last)",
      "Cell \u001b[0;32mIn[1], line 4\u001b[0m\n\u001b[1;32m      1\u001b[0m \u001b[39m# Task 1: Load and Perform Initial EDA\u001b[39;00m\n\u001b[1;32m      2\u001b[0m \n\u001b[1;32m      3\u001b[0m \u001b[39m# Load Cab Data\u001b[39;00m\n\u001b[0;32m----> 4\u001b[0m cab_data \u001b[39m=\u001b[39m pd\u001b[39m.\u001b[39mread_csv(\u001b[39m\"\u001b[39m\u001b[39mCab_Data.csv\u001b[39m\u001b[39m\"\u001b[39m)\n\u001b[1;32m      6\u001b[0m \u001b[39m# Display basic statistics\u001b[39;00m\n\u001b[1;32m      7\u001b[0m \u001b[39mprint\u001b[39m(\u001b[39m\"\u001b[39m\u001b[39mBasic Statistics of Cab Data:\u001b[39m\u001b[39m\"\u001b[39m)\n",
      "\u001b[0;31mNameError\u001b[0m: name 'pd' is not defined"
     ]
    }
   ],
   "source": [
    "# Task 1: Load and Perform Initial EDA\n",
    "\n",
    "# Load Cab Data\n",
    "cab_data = pd.read_csv(\"Cab_Data.csv\")\n",
    "\n",
    "# Display basic statistics\n",
    "print(\"Basic Statistics of Cab Data:\")\n",
    "print(cab_data.describe())\n",
    "\n",
    "# Check for missing values\n",
    "print(\"\\nMissing Values in Cab Data:\")\n",
    "print(cab_data.isnull().sum())\n",
    "\n",
    "# Visualize data - Histogram of KM Travelled\n",
    "plt.figure(figsize=(8, 6))\n",
    "sns.histplot(cab_data['KM Travelled'], bins=30, kde=True)\n",
    "plt.xlabel('KM Travelled')\n",
    "plt.ylabel('Frequency')\n",
    "plt.title('Distribution of KM Travelled')\n",
    "plt.show()\n",
    "\n",
    "# Load City Data\n",
    "city_data = pd.read_csv(\"City.csv\")\n",
    "\n",
    "# Display basic statistics\n",
    "print(\"\\nBasic Statistics of City Data:\")\n",
    "print(city_data.describe())\n",
    "\n",
    "# Check for missing values\n",
    "print(\"\\nMissing Values in City Data:\")\n",
    "print(city_data.isnull().sum())\n",
    "\n",
    "# Task 2: Descriptive Statistics\n",
    "\n",
    "# Calculate mean and median of 'Price Charged' in Cab Data\n",
    "mean_price = cab_data['Price Charged'].mean()\n",
    "median_price = cab_data['Price Charged'].median()\n",
    "\n",
    "print(f\"\\nMean Price Charged in Cab Data: {mean_price}\")\n",
    "print(f\"Median Price Charged in Cab Data: {median_price}\")\n",
    "\n",
    "# Calculate mean and median of 'Income (USD/Month)' in Customer Data\n",
    "customer_data = pd.read_csv(\"Customer_ID.csv\")\n",
    "mean_income = customer_data['Income (USD/Month)'].mean()\n",
    "median_income = customer_data['Income (USD/Month)'].median()\n",
    "\n",
    "print(f\"\\nMean Income (USD/Month) in Customer Data: {mean_income}\")\n",
    "print(f\"Median Income (USD/Month) in Customer Data: {median_income}\")\n",
    "\n",
    "# Task 3: Data Profiling\n",
    "\n",
    "# Create a profile report for Cab Data\n",
    "cab_profile = ProfileReport(cab_data)\n",
    "cab_profile.to_file(\"Cab_Data_Profile_Report.html\")\n",
    "\n",
    "# Create a profile report for City Data\n",
    "city_profile = ProfileReport(city_data)\n",
    "city_profile.to_file(\"City_Data_Profile_Report.html\")\n",
    "\n",
    "# Create a profile report for Customer Data\n",
    "customer_profile = ProfileReport(customer_data)\n",
    "customer_profile.to_file(\"Customer_Data_Profile_Report.html\")\n",
    "\n",
    "# Task 4: Cross-tabulation\n",
    "\n",
    "# Load Transaction Data\n",
    "transaction_data = pd.read_csv(\"Transaction_ID.csv\")\n",
    "\n",
    "# Create a cross-tabulation between 'Company' and 'City' in Cab Data\n",
    "cross_tab_cab = pd.crosstab(cab_data['Company'], cab_data['City'])\n",
    "\n",
    "# Create a cross-tabulation between 'Gender' and 'Age' in Customer Data\n",
    "cross_tab_customer = pd.crosstab(customer_data['Gender'], customer_data['Age'])\n",
    "\n",
    "# Display the cross-tabulation for Cab Data\n",
    "print(\"\\nCross-Tabulation between 'Company' and 'City' in Cab Data:\")\n",
    "print(cross_tab_cab)\n",
    "\n",
    "# Display the cross-tabulation for Customer Data\n",
    "print(\"\\nCross-Tabulation between 'Gender' and 'Age' in Customer Data:\")\n",
    "print(cross_tab_customer)\n"
   ]
  },
  {
   "cell_type": "code",
   "execution_count": null,
   "metadata": {},
   "outputs": [],
   "source": [
    "# Step 4: Field/Feature Transformations\n",
    "# This step may involve creating new features, aggregations, etc., as needed for analysis."
   ]
  },
  {
   "cell_type": "code",
   "execution_count": null,
   "metadata": {},
   "outputs": [],
   "source": [
    "# Step 5: Determine Join vs. Append\n",
    "# Decide how datasets should be combined, if necessary."
   ]
  },
  {
   "cell_type": "code",
   "execution_count": null,
   "metadata": {},
   "outputs": [],
   "source": [
    "# Step 6: Create Master Data and Explain the Relationship\n",
    "# If joining datasets, perform the join operation and explain relationships."
   ]
  },
  {
   "cell_type": "code",
   "execution_count": null,
   "metadata": {},
   "outputs": [],
   "source": [
    "# Step 7: Identify and Remove Duplicates\n",
    "# Check for and handle duplicate records, ensuring clean and unique data."
   ]
  },
  {
   "cell_type": "code",
   "execution_count": null,
   "metadata": {},
   "outputs": [],
   "source": [
    "# Step 8: Perform Other Analysis\n",
    "# Handle missing values, outliers, and other data cleaning tasks as needed."
   ]
  }
 ],
 "metadata": {
  "kernelspec": {
   "display_name": "Python 3",
   "language": "python",
   "name": "python3"
  },
  "language_info": {
   "codemirror_mode": {
    "name": "ipython",
    "version": 3
   },
   "file_extension": ".py",
   "mimetype": "text/x-python",
   "name": "python",
   "nbconvert_exporter": "python",
   "pygments_lexer": "ipython3",
   "version": "3.11.4"
  },
  "orig_nbformat": 4
 },
 "nbformat": 4,
 "nbformat_minor": 2
}
